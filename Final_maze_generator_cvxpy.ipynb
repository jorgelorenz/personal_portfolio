{
  "nbformat": 4,
  "nbformat_minor": 0,
  "metadata": {
    "colab": {
      "provenance": [],
      "include_colab_link": true
    },
    "kernelspec": {
      "name": "python3",
      "display_name": "Python 3"
    },
    "language_info": {
      "name": "python"
    }
  },
  "cells": [
    {
      "cell_type": "markdown",
      "metadata": {
        "id": "view-in-github",
        "colab_type": "text"
      },
      "source": [
        "<a href=\"https://colab.research.google.com/github/jorgelorenz/personal_portfolio/blob/main/Final_maze_generator_cvxpy.ipynb\" target=\"_parent\"><img src=\"https://colab.research.google.com/assets/colab-badge.svg\" alt=\"Open In Colab\"/></a>"
      ]
    },
    {
      "cell_type": "markdown",
      "source": [
        "# Maze generator with CVXPY\n",
        ">Author: Jorge Lorenzo García\n",
        "\n",
        ">LinkedIn: https://www.linkedin.com/in/jorge-lorenzo-garc%C3%ADa-05943421b/\n",
        "\n",
        "\n",
        "\n",
        "\n",
        "\n"
      ],
      "metadata": {
        "id": "ojgn5o3ymvHr"
      }
    },
    {
      "cell_type": "markdown",
      "source": [
        "## Introduction\n",
        "Maze generation algorithms ([Wikipedia](https://en.wikipedia.org/wiki/Maze-solving_algorithm#:~:text=The%20maze%2Drouting%20algorithm%20is,for%20any%20grid%2Dbased%20maze.)) are a widely studied topic related to computer science and graph theory.\n",
        "\n",
        "Here we provide an algorithm based on the one made by Benjamin Godlove in\n",
        "https://brg8.medium.com/generating-a-maze-with-linear-constraint-programming-58a7bd0723f5\n",
        "\n",
        "The main idea is to create the constraints that allows us to have a solvable maze and then use cvxpy library to get a solution which is a maze.\n",
        "\n"
      ],
      "metadata": {
        "id": "HjBhnrRrr45n"
      }
    },
    {
      "cell_type": "markdown",
      "source": [
        "## The optimization problem\n",
        "\n",
        "$$\n",
        "\\begin{array}{ll} \\mbox{maximize} & \\sum_{i=0}^{N-1}\\sum_{j=0}^{N-1} x_{ij} \\\\\n",
        "\\mbox{subject to} & x_{ij}, y_{ij} \\in \\{ 0,1 \\} \\; \\forall i,j=0,1,..N-1,  \\\\\n",
        "& x_{10} = 0 , \\; x_{N-2N-1}=0\\\\\n",
        "& x_{i-1j} + x_{i+1j} + x_{ij-1} + x_{ij+1} <= 3 \\; \\forall i,j=1,..N-2 \\\\\n",
        "& x_{i-1j} + x_{i+1j} + x_{ij-1} + x_{ij+1} + x_{ij} <= 4 \\; \\forall i,j=1,..N-2 \\\\\n",
        "& y_{10} = 1 , \\; y_{11} = 1, \\; y_{N-2N-1} = 1, \\; y_{N-2N-2} = 1 \\\\\n",
        "& y_{i-1j} + y_{i+1j} + y_{ij-1} + y_{ij+1} - 2 * y_{ij} >= 0 \\; \\forall i,j=1,..N-2 \\\\\n",
        "& y_{i-1j} + y_{i+1j} + y_{ij-1} + y_{ij+1} + 2 * y_{ij} <= 4 \\; \\forall i,j=1,..N-2 \\\\\n",
        "& x_{ij} + y_{ij} <= 1 \\; \\forall i,j=0,..N-1 \\\\\n",
        "& \\sum_{i=0}^{N-1} x_{0i} = N \\; \\forall i,j=0,..N-1 \\\\\n",
        "& \\sum_{i=0}^{N-1} x_{N-1i} = N \\; \\forall i,j=0,..N-1 \\\\\n",
        "& \\sum_{i=0}^{N-1} x_{i0} = N - 1 \\; \\forall i,j=0,..N-1 \\\\\n",
        "& \\sum_{i=0}^{N-1} x_{iN-1} = N - 1 \\; \\forall i,j=0,..N-1 \\\\\n",
        "& \\sum_{j=0}^{N-1} x_{ij} <= \\lceil{N/2}\\rceil \\forall i=1,..N-2\\\\\n",
        "& x_{i-1j} + x_{i+1j} + x_{ij-1} + x_{ij+1} <= 4 \\; \\forall i,j=1,..N-2 \\\\\n",
        "\\end{array}\n",
        "$$ \\\\\n",
        "We define the walls variables: $$x_{ij}$$ 1 if there are wall in block\n",
        "(i,j) 0 otherwise. \\\\\n",
        "We maximize the amount of walls with some conditions: \\\\\n",
        "·We declare the entry and the exit. \\\\\n",
        "·For each block there should be at least one free adyacent block. \\\\\n",
        "·A free block there should have at least one free adyacent block. \\\\\n",
        "·We also declare constraints for the outside walls.\n",
        "We define the solution path y:\n",
        "·The entry and the exit should be in the solution path. \\\\\n",
        "·A block in the solution path should be a free block not a wall. \\\\\n",
        "·A block in the solution path should have exactly two adyacents blocks in the solution path (except from entry and exit). \\\\\n",
        "\n",
        "And some equations to do de maze more complex."
      ],
      "metadata": {
        "id": "p_wjaMWfr7Kl"
      }
    },
    {
      "cell_type": "markdown",
      "source": [
        "## The program"
      ],
      "metadata": {
        "id": "Qdw-bX8Rr8bG"
      }
    },
    {
      "cell_type": "code",
      "source": [
        "import cvxpy as cp\n\n",
        "import math\n",
        "\n",
        "WALL = \"#\"\n",
        "FREE_SPACE = \" \"\n",
        "TOLERANCE = 0.05\n",
        "PATH = \"*\"\n",
        "\n",
        "def show_maze(x,y, N):\n",
        "  for i in range(N):\n",
        "    row = []\n",
        "    for j in range(N):\n",
        "        if x[(i,j)].value >= 1 - TOLERANCE:\n",
        "          print(WALL, end=\"\")\n",
        "        else:\n",
        "          if y[(i,j)].value >= 1 - TOLERANCE :\n",
        "            print(PATH, end=\"\")\n",
        "          else:\n",
        "            print(FREE_SPACE, end=\"\")\n",
        "    print()\n",
        "\n",
        "\n",
        "\n",
        "def maze_generation(N=10, show=True):\n",
        "  #Initialize x\n",
        "  x = {}\n",
        "  y = {}\n",
        "\n",
        "  for i in range(N):\n",
        "    for j in range(N):\n",
        "      x[(i,j)] = cp.Variable(1, boolean=True)\n",
        "      y[(i,j)] = cp.Variable(1, boolean=True)\n",
        "  #Objective function\n",
        "\n",
        "  objective = sum(sum( x[(i,j)] for i in range(N) ) for j in range(N))\n",
        "\n",
        "  #Constraints\n",
        "  constraints = []\n",
        "\n",
        "  constraints += [ x[(1,0)] == 0 ]\n",
        "  constraints += [ x[(N-2, N-1)] == 0 ]\n",
        "  constraints += [ y[(1,0)] == 1 ]\n",
        "  constraints += [ y[(1,1)] == 1 ]\n",
        "  constraints += [ y[(N-2,N-1)] == 1 ]\n",
        "  constraints += [ y[(N-2,N-2)] == 1 ]\n",
        "\n",
        "  for i in range(1,N-1):\n",
        "    constraints += [sum( x[(i,j)] for j in range(N)) <= math.ceil(N/2.0)]\n",
        "    for j in range(1,N-1):\n",
        "      constraints += [x[(i-1,j)] + x[(i+1,j)] + x[(i,j-1)] + x[(i,j+1)] <=3]\n",
        "      constraints += [x[(i-1,j)] + x[(i+1,j)] + x[(i,j-1)] + x[(i,j+1)] + x[(i,j)] <=4]\n",
        "      constraints += [y[(i-1,j)] + y[(i+1,j)] + y[(i,j-1)] + y[(i,j+1)] + 2*y[(i,j)] <=4]\n",
        "      constraints += [y[(i-1,j)] + y[(i+1,j)] + y[(i,j-1)] + y[(i,j+1)] - 2*y[(i,j)] >=0]\n",
        "      constraints += [x[(i,j-1)] + x[(i-1,j-1)] + x[(i-1,j)] + x[(i,j)] >= 1]\n",
        "\n",
        "  for i in range(N):\n",
        "    constraints += [x[(0,i)] == 1]\n",
        "    constraints += [x[(N-1,i)] == 1]\n",
        "    if i != 1 :\n",
        "      constraints += [x[(i,0)] == 1]\n",
        "    if i != N-2 :\n",
        "      constraints += [x[(i,N-1)] == 1]\n",
        "    for j in range(N):\n",
        "      constraints += [x[(i,j)] + y[(i,j)] <= 1]\n",
        "\n",
        "\n",
        "  #Solving\n",
        "  prob = cp.Problem(cp.Maximize(objective), constraints)\n",
        "  prob.solve(solver=cp.GLPK_MI)\n",
        "\n",
        "  #Showing\n",
        "  if show :\n",
        "    show_maze(x,y, N)\n",
        "\n",
        "maze_generation()"
      ],
      "metadata": {
        "colab": {
          "base_uri": "https://localhost:8080/"
        },
        "id": "IB5qKGbEmu2p",
        "outputId": "495b9863-2629-4868-a6d8-79d55f6ade2c"
      },
      "execution_count": null,
      "outputs": [
        {
          "output_type": "stream",
          "name": "stdout",
          "text": [
            "##########\n",
            "*****#####\n",
            "## #*#   #\n",
            "##  *# # #\n",
            "## #*#   #\n",
            "### ***# #\n",
            "# # ##***#\n",
            "# # #  #*#\n",
            "### ##  **\n",
            "##########\n"
          ]
        }
      ]
    },
    {
      "cell_type": "markdown",
      "source": [
        "## Efficiency\n",
        "\n",
        "As we see clearly, the number of constraints is O(n^2) and the number of variables in some of such constraints is O(n) so the program won't scale efficiently because Simplex won't. Let compute it."
      ],
      "metadata": {
        "id": "BALiicyBppcZ"
      }
    },
    {
      "cell_type": "code",
      "source": [
        "import time as time\n",
        "from numpy import array\n",
        "import pandas as pd\n",
        "\n",
        "def compute_time():\n",
        "  beginning = 4\n",
        "  end = 32\n",
        "  times = []\n",
        "  for i in range(beginning,end,2):\n",
        "    start = time.time()\n",
        "    maze_generation(i, show=False)\n",
        "    finish = time.time()\n",
        "    times.append( (i, array([finish - start])) )\n",
        "\n",
        "  y, x= [item[1][0] for item in times], [item[0] for item in times]\n",
        "\n",
        "  df = pd.DataFrame(index=range(beginning, end, 2) ,data={'time': y})\n",
        "  df.plot()\n",
        "\n",
        "compute_time()\n"
      ],
      "metadata": {
        "colab": {
          "base_uri": "https://localhost:8080/",
          "height": 430
        },
        "id": "ub3aIRrqpyfg",
        "outputId": "f809c859-135d-4c17-c3d1-57c73e84474c"
      },
      "execution_count": null,
      "outputs": [
        {
          "output_type": "display_data",
          "data": {
            "text/plain": [
              "<Figure size 640x480 with 1 Axes>"
            ],
            "image/png": "[encoded data removed]"
          },
          "metadata": {}
        }
      ]
    },
    {
      "cell_type": "markdown",
      "source": [
        "We see the algorithm has exponential order."
      ],
      "metadata": {
        "id": "7qkkgNrP_D-B"
      }
    },
    {
      "cell_type": "markdown",
      "source": [
        "## Conclusions\n",
        "Python CVXPY library is faster for this algorithm (at least until N=14) than glp library in Ruby that Benjamin used in his code. \\\\\n",
        "Also, we can compare the Ruby code and Python which is easier and more readble in my opinion."
      ],
      "metadata": {
        "id": "UW-a1G-npzMk"
      }
    }
  ]
}
