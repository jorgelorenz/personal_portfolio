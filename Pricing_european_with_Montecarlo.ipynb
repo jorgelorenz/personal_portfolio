{
  "nbformat": 4,
  "nbformat_minor": 0,
  "metadata": {
    "colab": {
      "provenance": [],
      "authorship_tag": "ABX9TyMRE4bpltVx2xIPMYTXGsuo",
      "include_colab_link": true
    },
    "kernelspec": {
      "name": "python3",
      "display_name": "Python 3"
    },
    "language_info": {
      "name": "python"
    }
  },
  "cells": [
    {
      "cell_type": "markdown",
      "metadata": {
        "id": "view-in-github",
        "colab_type": "text"
      },
      "source": [
        "<a href=\"https://colab.research.google.com/github/jorgelorenz/personal_portfolio/blob/main/Pricing_european_with_Montecarlo.ipynb\" target=\"_parent\"><img src=\"https://colab.research.google.com/assets/colab-badge.svg\" alt=\"Open In Colab\"/></a>"
      ]
    },
    {
      "cell_type": "markdown",
      "source": [
        "# Pricing european option with Montecarlo\n",
        "\n",
        "Using log-normal for underlying."
      ],
      "metadata": {
        "id": "OMQ6ub6JFGSA"
      }
    },
    {
      "cell_type": "code",
      "source": [
        "import math as m\n",
        "import numpy.random as rand\n",
        "\n",
        "M=500 #Steps in each lognormal sample\n",
        "N=10000 #Number of Montecarlo samples\n",
        "K=100 #Strike price\n",
        "S0=100 #Price of S at time 0\n",
        "sigma=0.2 #Volatility\n",
        "r=0.1 #Risk-free rate of interest\n",
        "dt=float(1/M)\n",
        "sdt=m.sqrt(dt)\n",
        "eps=1.e-50\n",
        "er=m.exp(-r)\n",
        "\n",
        "def path(x, m):\n",
        "  S=x\n",
        "  normal_outputs=rand.normal(size=(m))\n",
        "  for i in range(m):\n",
        "    S+=S*(sigma*normal_outputs[i]*sdt+r*dt)\n",
        "  return S\n",
        "\n",
        "def payoff(s):\n",
        "  if s>K:\n",
        "    return s-K\n",
        "  else:\n",
        "    return 0\n",
        "\n",
        "value=0\n",
        "for i in range(N):\n",
        "  S=path(S0, M)\n",
        "  value+=er*payoff(S)\n",
        "\n",
        "print(value/N)"
      ],
      "metadata": {
        "id": "S3PQavPHFK2T",
        "colab": {
          "base_uri": "https://localhost:8080/"
        },
        "outputId": "155ede73-2cf3-48d0-f590-4fad0bb3de27"
      },
      "execution_count": null,
      "outputs": [
        {
          "output_type": "stream",
          "name": "stdout",
          "text": [
            "13.31506911175703\n"
          ]
        }
      ]
    }
  ]
}