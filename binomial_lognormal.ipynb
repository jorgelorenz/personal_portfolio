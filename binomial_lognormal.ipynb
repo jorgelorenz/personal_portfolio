{
  "nbformat": 4,
  "nbformat_minor": 0,
  "metadata": {
    "colab": {
      "provenance": [],
      "authorship_tag": "ABX9TyOZZV53ia+hKoeTexxMT/IY",
      "include_colab_link": true
    },
    "kernelspec": {
      "name": "python3",
      "display_name": "Python 3"
    },
    "language_info": {
      "name": "python"
    }
  },
  "cells": [
    {
      "cell_type": "markdown",
      "metadata": {
        "id": "view-in-github",
        "colab_type": "text"
      },
      "source": [
        "<a href=\"https://colab.research.google.com/github/jorgelorenz/personal_portfolio/blob/main/binomial_lognormal.ipynb\" target=\"_parent\"><img src=\"https://colab.research.google.com/assets/colab-badge.svg\" alt=\"Open In Colab\"/></a>"
      ]
    },
    {
      "cell_type": "markdown",
      "source": [
        "\n",
        "\n",
        "# Log-normal approximation by binomial model\n",
        "\n",
        "Our goal is to check this theorem [Shreve, 2004]:\n",
        "\n",
        "Theorem 3.2.2: When $n → ∞$ the distribution of:\n",
        "$$S_{n}(t)=S(0)·u_{n}^{H_{nt}}d_{n}^{T_{nt}}$$ \\\\\n",
        "with $u=1+\\frac{\\sigma}{\\sqrt{n}}$ and $d=1-\\frac{\\sigma}{\\sqrt{n}}$ and the $H_{i}$ y $T_{i}$ random variable binomial with $p=q=1/2$ converges to the distribution of:\n",
        "$$ S(t)=S(0)·exp\\lbrace \\sigma W(t) - \\frac{1}{2}\\sigma^{2}t\\rbrace $$\n",
        "\n"
      ],
      "metadata": {
        "id": "t-Nj-PdpOwBq"
      }
    },
    {
      "cell_type": "code",
      "execution_count": null,
      "metadata": {
        "colab": {
          "base_uri": "https://localhost:8080/",
          "height": 430
        },
        "id": "Tl37wFDjX0r4",
        "outputId": "505f8b94-4ff3-4f81-9761-3a68048ae293"
      },
      "outputs": [
        {
          "output_type": "display_data",
          "data": {
            "text/plain": [
              "<Figure size 640x480 with 1 Axes>"
            ],
            "image/png": "[encoded data removed]"
          },
          "metadata": {}
        }
      ],
      "source": [
        "from re import I\n",
        "\n",
        "import random as rand\n",
        "import pandas as pd\n",
        "import matplotlib.pyplot as plt\n",
        "import math as m\n",
        "import seaborn as sns\n",
        "import numpy as np\n",
        "\n",
        "n_samples = 10000\n",
        "tolerance = 0.1\n",
        "\n",
        "###Parameter scaled symmetric random walk\n",
        "S0 = 1\n",
        "T=1\n",
        "n = 10000\n",
        "sigma = 1\n",
        "u = 1 + sigma/m.sqrt(n)\n",
        "d = 1 - sigma/m.sqrt(n)\n",
        "\n",
        "average = 0\n",
        "values=[]\n",
        "for sample in range(n_samples):\n",
        "  S = S0\n",
        "  for i in range(n):\n",
        "    if rand.random() > 0.5:\n",
        "      S *= u\n",
        "    else:\n",
        "      S *= d\n",
        "\n",
        "  values.append(S)\n",
        "\n",
        "data = {'valores': values}\n",
        "df = pd.DataFrame(data)\n",
        "\n",
        "##### Parameters log-normal\n",
        "standar_dev = sigma**2*T\n",
        "mean = -1/2*sigma**2*T\n",
        "\n",
        "v1 = pd.Series(list(map(lambda x: S0*m.exp(x), np.random.normal(mean, standar_dev, 10000))))\n",
        "plt.figure()\n",
        "hist = df['valores'].hist(bins=list(map(lambda x: x/15, range(-15,90))), density=True)\n",
        "plt.hist(v1, density=True, bins=list(map(lambda x: x/15, range(-15,90))), alpha=0.5)\n",
        "plt.show()"
      ]
    }
  ]
}