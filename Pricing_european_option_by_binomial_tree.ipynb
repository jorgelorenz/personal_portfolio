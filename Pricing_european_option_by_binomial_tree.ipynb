{
  "nbformat": 4,
  "nbformat_minor": 0,
  "metadata": {
    "colab": {
      "provenance": [],
      "authorship_tag": "ABX9TyP9oNVBB3YOSG/iQoAdEOqD",
      "include_colab_link": true
    },
    "kernelspec": {
      "name": "python3",
      "display_name": "Python 3"
    },
    "language_info": {
      "name": "python"
    }
  },
  "cells": [
    {
      "cell_type": "markdown",
      "metadata": {
        "id": "view-in-github",
        "colab_type": "text"
      },
      "source": [
        "<a href=\"https://colab.research.google.com/github/jorgelorenz/personal_portfolio/blob/main/Pricing_european_option_by_binomial_tree.ipynb\" target=\"_parent\"><img src=\"https://colab.research.google.com/assets/colab-badge.svg\" alt=\"Open In Colab\"/></a>"
      ]
    },
    {
      "cell_type": "markdown",
      "source": [
        "# Pricing european option by binomial tree"
      ],
      "metadata": {
        "id": "IGZm3wqnT1Yb"
      }
    },
    {
      "cell_type": "code",
      "source": [
        "import math as m\n",
        "\n",
        "\n",
        "M=500 #Steps in each lognormal sample\n",
        "K=100 #Strike price\n",
        "S0=100 #Price of S at time 0\n",
        "sigma=0.2 #Volatility\n",
        "r=0.1 #Risk-free rate of interest\n",
        "dt=float(1/M)\n",
        "\n",
        "def payoff_call(S, K):\n",
        "  if S > K:\n",
        "    return S - K\n",
        "  else:\n",
        "    return 0\n",
        "\n",
        "def payoff_put(S, K):\n",
        "  if K > S:\n",
        "    return K - S\n",
        "  else:\n",
        "    return 0\n",
        "\n",
        "payoff = payoff_call\n",
        "\n",
        "disc = m.exp(-r*dt)\n",
        "u = (1+m.sqrt(m.exp(sigma*sigma*dt)-1))/disc\n",
        "d = (1-m.sqrt(m.exp(sigma*sigma*dt)-1))/disc\n",
        "p = 0.5\n",
        "\n",
        "S = list()\n",
        "\n",
        "S.append(S0)\n",
        "\n",
        "for m in range(1,M):\n",
        "  S.append(0)\n",
        "  for n in range(m,0,-1):\n",
        "    S[n] = (u*S[n-1])\n",
        "  S[0] = d*S[0]\n",
        "\n",
        "C = list()\n",
        "\n",
        "for n in range(M):\n",
        "  C.append(payoff(S[n], K))\n",
        "\n",
        "for m in range(M-1, 0, -1):\n",
        "  for n in range(m):\n",
        "    C[n] = (p*C[n+1]+(1-p)*C[n])*disc\n",
        "\n",
        "print(C[0])\n"
      ],
      "metadata": {
        "colab": {
          "base_uri": "https://localhost:8080/"
        },
        "id": "OXnibpNDT4Ym",
        "outputId": "b8b61ff8-635c-4070-9057-91b70689f07d"
      },
      "execution_count": 12,
      "outputs": [
        {
          "output_type": "stream",
          "name": "stdout",
          "text": [
            "13.248954747089723\n"
          ]
        }
      ]
    }
  ]
}